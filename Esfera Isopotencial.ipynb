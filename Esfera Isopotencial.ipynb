{
 "cells": [
  {
   "cell_type": "markdown",
   "metadata": {},
   "source": [
    "# La neurona\n",
    "Las neuronas son células especializadas en el procesamiento y transmisión de información; para cumplir esta función han desarollado estructuras propias, de las que carecen las células de otros tipos.\n",
    "\n",
    "Imaginemos una célula \"normal\" como una pequeña esfera hueca, flotando en solución salina (NaCl y KCl) y llena de solución salina. La esfera contiene la información genética del organismo y la maquinaria molecular necesaria para mantenerse con vida. En las neuronas, ademas de esta esfera a la que llamaremos **soma**, encontramos dos proyecciones en polos opuestos del soma: en un polo, el **árbol dendrítico**, en el otro el **axón**.\n",
    "\n",
    "El árbol dendrítico está compuesto por multitud de proyecciones finas, denominadas dendritas, que se extienden localmente buscando contactar con los axones de otras neuronas.\n",
    "\n",
    "El axón es una prolongación única y de mayor diámetro y longitud que las dendritas, que se ramifica en su extremo final y contacta con las dendritas de otras neuronas.\n",
    "\n",
    "Permitidme decir, por mor de la comunicación, que las sinapsis inyecta una corriente en la dendrita de la neurona postsináptica. La dendrita conduce esta corriente hasta el soma, donde las corrientes de las distintas dendritas se integran para decidir si la neurona enviará o no una señal. Esta señal viajará por el axon hasta llegar a un extremo. "
   ]
  },
  {
   "cell_type": "code",
   "execution_count": 3,
   "metadata": {
    "collapsed": false
   },
   "outputs": [],
   "source": [
    "using Plots # Esta librería proporciona una interfaz común para varias librerías gráficas  \n",
    "pyplot()    # La librería de gráficos propiamente dicha. Plots llamará a sus funciones para graficar."
   ]
  },
  {
   "cell_type": "markdown",
   "metadata": {},
   "source": [
    "## Esfera isopotencial\n",
    "Estudiemos ahora el soma, como primera aproximación a la neurona."
   ]
  },
  {
   "cell_type": "markdown",
   "metadata": {},
   "source": [
    "# Solución del circuito RC\n",
    "Vamos a solucionar el circuito numéricamente."
   ]
  },
  {
   "cell_type": "code",
   "execution_count": 13,
   "metadata": {
    "collapsed": false
   },
   "outputs": [
    {
     "data": {
      "text/plain": [
       "rk (generic function with 1 method)"
      ]
     },
     "execution_count": 13,
     "metadata": {},
     "output_type": "execute_result"
    }
   ],
   "source": [
    "function rk(dy::Function, y₀, t::Array{Number}) end"
   ]
  },
  {
   "cell_type": "code",
   "execution_count": 12,
   "metadata": {
    "collapsed": false
   },
   "outputs": [
    {
     "data": {
      "text/plain": [
       "odesolve (generic function with 1 method)"
      ]
     },
     "execution_count": 12,
     "metadata": {},
     "output_type": "execute_result"
    }
   ],
   "source": [
    "function odesolve(dy::Function, y₀::Union{Number, Array{Number}}, t::Array{Float64}; method::Function=rk) end"
   ]
  },
  {
   "cell_type": "code",
   "execution_count": 9,
   "metadata": {
    "collapsed": false
   },
   "outputs": [],
   "source": [
    "using SymPy"
   ]
  },
  {
   "cell_type": "code",
   "execution_count": null,
   "metadata": {
    "collapsed": true
   },
   "outputs": [],
   "source": []
  }
 ],
 "metadata": {
  "kernelspec": {
   "display_name": "Julia 0.5.0",
   "language": "julia",
   "name": "julia-0.5"
  },
  "language_info": {
   "file_extension": ".jl",
   "mimetype": "application/julia",
   "name": "julia",
   "version": "0.5.0"
  }
 },
 "nbformat": 4,
 "nbformat_minor": 2
}
